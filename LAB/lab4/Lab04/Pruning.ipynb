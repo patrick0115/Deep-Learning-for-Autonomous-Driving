{
 "cells": [
  {
   "cell_type": "code",
   "execution_count": 1,
   "metadata": {},
   "outputs": [],
   "source": [
    "import torch\n",
    "import torch.nn as nn\n",
    "import torch.nn.functional as F\n",
    "import torch.optim as optim\n",
    "from torch.utils.data import DataLoader\n",
    "from speech_command_dataset import SpeechCommandDataset\n",
    "import numpy as np\n",
    "import matplotlib.pyplot as plt\n",
    "from model import M5"
   ]
  },
  {
   "cell_type": "code",
   "execution_count": 2,
   "metadata": {},
   "outputs": [
    {
     "name": "stdout",
     "output_type": "stream",
     "text": [
      "cuda\n"
     ]
    }
   ],
   "source": [
    "torch.manual_seed(0)\n",
    "torch.backends.cudnn.deterministic = True \n",
    "torch.backends.cudnn.benchmark = False\n",
    "\n",
    "device = torch.device('cuda' if torch.cuda.is_available() else \"cpu\")\n",
    "print(device)"
   ]
  },
  {
   "cell_type": "code",
   "execution_count": 3,
   "metadata": {},
   "outputs": [],
   "source": [
    "training_params = {\"batch_size\": 128,\n",
    "                       \"shuffle\": True,\n",
    "                       \"drop_last\": False,\n",
    "                       \"num_workers\": 1}\n",
    "\n",
    "testing_params = {\"batch_size\": 128,\n",
    "                       \"shuffle\": False,\n",
    "                       \"drop_last\": False,\n",
    "                       \"num_workers\": 1}\n",
    "\n",
    "train_set = SpeechCommandDataset()\n",
    "train_loader = DataLoader(train_set, **training_params)\n",
    "\n",
    "test_set = SpeechCommandDataset(is_training=False)\n",
    "test_loader = DataLoader(test_set, **testing_params)"
   ]
  },
  {
   "cell_type": "code",
   "execution_count": 4,
   "metadata": {},
   "outputs": [],
   "source": [
    "def train(model, epoch):\n",
    "    model.train()\n",
    "    total_loss = 0\n",
    "    correct = 0\n",
    "    criterion = nn.CrossEntropyLoss() \n",
    "    \n",
    "    for batch_idx, (data, target) in enumerate(train_loader):\n",
    "\n",
    "        data = data.to(device)\n",
    "        target = target.to(device)\n",
    "\n",
    "        #forward\n",
    "        output = model(data)\n",
    "        target = target.to(torch.int64) \n",
    "        loss = criterion(output, target)\n",
    "        \n",
    "        total_loss += loss.item()\n",
    "        pred = output.argmax(dim=-1)\n",
    "        correct += pred.squeeze().eq(target).sum().item()        \n",
    "        \n",
    "        #backward\n",
    "        optimizer.zero_grad()\n",
    "        loss.backward()\n",
    "        optimizer.step()\n",
    "\n",
    "    # print training stats\n",
    "    train_loss = float(total_loss) / len(train_loader)\n",
    "    train_acc = 100.0 * float(correct) / len(train_set)\n",
    "    print('Epoch: %3d' % epoch, '|train loss: %.4f' % train_loss, '|train accuracy: %.2f' % train_acc)\n",
    "    return train_acc"
   ]
  },
  {
   "cell_type": "code",
   "execution_count": 5,
   "metadata": {},
   "outputs": [],
   "source": [
    "def test(model, epoch):\n",
    "    model.eval()\n",
    "    correct = 0\n",
    "    for data, target in test_loader:\n",
    "\n",
    "        data = data.to(device)\n",
    "        target = target.to(device)\n",
    "\n",
    "        #forward\n",
    "        output = model(data)\n",
    "\n",
    "        pred = output.argmax(dim=-1)\n",
    "        correct += pred.squeeze().eq(target).sum().item()\n",
    "        \n",
    "    # print testing stats\n",
    "    test_acc = 100.0 * float(correct) / len(test_set)\n",
    "    print('Epoch: %3d' % epoch, '|test accuracy: %.2f' % test_acc)\n",
    "    return test_acc"
   ]
  },
  {
   "cell_type": "markdown",
   "metadata": {},
   "source": [
    "## load model"
   ]
  },
  {
   "cell_type": "code",
   "execution_count": 6,
   "metadata": {},
   "outputs": [
    {
     "name": "stdout",
     "output_type": "stream",
     "text": [
      "=> loading checkpoint './Checkpoint/best_model.pth.tar'\n"
     ]
    },
    {
     "data": {
      "text/plain": [
       "<All keys matched successfully>"
      ]
     },
     "execution_count": 6,
     "metadata": {},
     "output_type": "execute_result"
    }
   ],
   "source": [
    "model_path = './Checkpoint/best_model.pth.tar'\n",
    "print(\"=> loading checkpoint '{}'\".format(model_path))\n",
    "checkpoint = torch.load(model_path, map_location = device)\n",
    "\n",
    "model = M5(cfg = checkpoint['cfg']).to(device)\n",
    "model.load_state_dict(checkpoint['state_dict'])"
   ]
  },
  {
   "cell_type": "code",
   "execution_count": 7,
   "metadata": {},
   "outputs": [
    {
     "name": "stdout",
     "output_type": "stream",
     "text": [
      "Number of parameter before pruning: 553.99k\n",
      "\n",
      "Accuracy before pruning\n",
      "Epoch:   0 |test accuracy: 46.08\n"
     ]
    }
   ],
   "source": [
    "total_param = sum([param.nelement() for param in model.parameters()])\n",
    "print(\"Number of parameter before pruning: %.2fk\" % (total_param/1e3))\n",
    "\n",
    "print('\\nAccuracy before pruning')\n",
    "test_acc = test(model, 0)"
   ]
  },
  {
   "cell_type": "markdown",
   "metadata": {},
   "source": [
    "## Coarse-grained Pruning"
   ]
  },
  {
   "cell_type": "code",
   "execution_count": null,
   "metadata": {},
   "outputs": [],
   "source": [
    "# you can choose your pruning rate\n",
    "pruning_rate = 0.1"
   ]
  },
  {
   "cell_type": "code",
   "execution_count": null,
   "metadata": {},
   "outputs": [],
   "source": [
    "#calculate pruning threshold\n",
    "#hint\n",
    "for m in model.modules():\n",
    "    if isinstance(m, nn.BatchNorm1d):\n",
    "        print(m.weight.data)\n",
    "        \n",
    "sorted_weight = torch.sort()[0]\n",
    "thres_index = int(num_weight * pruning_rate)\n",
    "thres = sorted_weight[thres_index]\n",
    "print(thres)"
   ]
  },
  {
   "cell_type": "code",
   "execution_count": null,
   "metadata": {},
   "outputs": [],
   "source": [
    "#get configuration and mask for pruned network\n",
    "#hint\n",
    "for m in model.modules():\n",
    "    if isinstance(m, nn.BatchNorm1d):\n",
    "        cfg = (m.weight.data > thres).sum()\n",
    "        mask = m.weight.data > thres\n",
    "\n",
    "#original configuration: [128, 128, 256, 512]\n",
    "cfg = []         #example format:  [125, 120, 155, 403]\n",
    "cfg_mask = []    #example format:  [[True, False, ..., True], [False, False, ..., True], [True, False, ..., False], [False, False, ..., True]]\n",
    "\n",
    "\n",
    "print('Pre-processing Successful!')"
   ]
  },
  {
   "cell_type": "code",
   "execution_count": null,
   "metadata": {},
   "outputs": [],
   "source": [
    "new_model = M5(cfg).to(device)"
   ]
  },
  {
   "cell_type": "code",
   "execution_count": null,
   "metadata": {},
   "outputs": [],
   "source": [
    "old_modules = list(model.modules())\n",
    "new_modules = list(new_model.modules())\n",
    "\n",
    "layer_id_in_cfg = 0\n",
    "start_mask = torch.ones(1, dtype = bool)\n",
    "end_mask = cfg_mask[layer_id_in_cfg]\n",
    "\n",
    "for layer_id in range(len(old_modules)):\n",
    "    m0 = old_modules[layer_id]\n",
    "    m1 = new_modules[layer_id]\n",
    "    if isinstance(m0, nn.BatchNorm1d):\n",
    "        m1.weight.data = m0.weight.data[end_mask].clone()\n",
    "        m1.bias.data = m0.bias.data[end_mask].clone()\n",
    "        m1.running_mean = m0.running_mean[end_mask].clone()\n",
    "        m1.running_var = m0.running_var[end_mask].clone()\n",
    "        layer_id_in_cfg += 1\n",
    "        start_mask = end_mask.clone()\n",
    "        if layer_id_in_cfg < len(cfg_mask): #prevent out of range\n",
    "            end_mask = cfg_mask[layer_id_in_cfg]\n",
    "            \n",
    "    elif isinstance(m0, nn.Conv1d):\n",
    "        w1 = m0.weight.data[:, start_mask, :].clone()\n",
    "        w1 = w1[end_mask, :, :].clone()\n",
    "        m1.weight.data = w1.clone()\n",
    "        m1.bias.data = m0.bias.data[end_mask]\n",
    "\n",
    "    elif isinstance(m0, nn.Linear):\n",
    "        m1.weight.data = m0.weight.data[:, start_mask].clone()\n",
    "        m1.bias.data = m0.bias.data.clone()\n",
    "        \n",
    "        \n",
    "\n",
    "print('cfg', cfg)\n",
    "torch.save({'cfg': cfg, 'state_dict': new_model.state_dict()}, './Checkpoint/coarse_model.pth.tar')"
   ]
  },
  {
   "cell_type": "markdown",
   "metadata": {},
   "source": [
    "## load pruned model and see result"
   ]
  },
  {
   "cell_type": "code",
   "execution_count": null,
   "metadata": {
    "scrolled": false
   },
   "outputs": [],
   "source": [
    "checkpoint = torch.load('./Checkpoint/coarse_model.pth.tar')\n",
    "prune_model = M5(cfg=checkpoint['cfg']).to(device)\n",
    "prune_model.load_state_dict(checkpoint['state_dict'])\n",
    "\n",
    "print(prune_model)"
   ]
  },
  {
   "cell_type": "code",
   "execution_count": null,
   "metadata": {},
   "outputs": [],
   "source": [
    "total_param = sum([param.nelement() for param in prune_model.parameters()])\n",
    "print(\"Number of parameter after pruning: %.2fk\" % (total_param/1e3))\n",
    "\n",
    "print('\\nAccuracy after pruning, before fine-tuning')\n",
    "test_acc = test(prune_model, 0)"
   ]
  },
  {
   "cell_type": "markdown",
   "metadata": {},
   "source": [
    "## Fine-tune"
   ]
  },
  {
   "cell_type": "code",
   "execution_count": 8,
   "metadata": {},
   "outputs": [
    {
     "name": "stdout",
     "output_type": "stream",
     "text": [
      "start finetuning\n",
      "Epoch:   1 |train loss: 1.4292 |train accuracy: 53.42\n",
      "Epoch:   1 |test accuracy: 53.96\n",
      "Saving..\n",
      "Epoch:   2 |train loss: 1.1040 |train accuracy: 65.14\n",
      "Epoch:   2 |test accuracy: 56.24\n",
      "Saving..\n",
      "Epoch:   3 |train loss: 0.9370 |train accuracy: 71.41\n",
      "Epoch:   3 |test accuracy: 56.95\n",
      "Saving..\n",
      "Epoch:   4 |train loss: 0.8140 |train accuracy: 75.66\n",
      "Epoch:   4 |test accuracy: 69.06\n",
      "Saving..\n"
     ]
    },
    {
     "ename": "KeyboardInterrupt",
     "evalue": "",
     "output_type": "error",
     "traceback": [
      "\u001b[1;31m---------------------------------------------------------------------------\u001b[0m",
      "\u001b[1;31mKeyboardInterrupt\u001b[0m                         Traceback (most recent call last)",
      "\u001b[1;32m~\\AppData\\Local\\Temp\\ipykernel_29228\\2548430038.py\u001b[0m in \u001b[0;36m<module>\u001b[1;34m\u001b[0m\n\u001b[0;32m      9\u001b[0m \u001b[0mprune_model\u001b[0m\u001b[1;33m=\u001b[0m\u001b[0mmodel\u001b[0m\u001b[1;33m\u001b[0m\u001b[1;33m\u001b[0m\u001b[0m\n\u001b[0;32m     10\u001b[0m \u001b[1;32mfor\u001b[0m \u001b[0mepoch\u001b[0m \u001b[1;32min\u001b[0m \u001b[0mrange\u001b[0m\u001b[1;33m(\u001b[0m\u001b[1;36m1\u001b[0m\u001b[1;33m,\u001b[0m \u001b[0mEPOCH\u001b[0m \u001b[1;33m+\u001b[0m \u001b[1;36m1\u001b[0m\u001b[1;33m)\u001b[0m\u001b[1;33m:\u001b[0m\u001b[1;33m\u001b[0m\u001b[1;33m\u001b[0m\u001b[0m\n\u001b[1;32m---> 11\u001b[1;33m     \u001b[0mtrain_acc\u001b[0m \u001b[1;33m=\u001b[0m \u001b[0mtrain\u001b[0m\u001b[1;33m(\u001b[0m\u001b[0mprune_model\u001b[0m\u001b[1;33m,\u001b[0m \u001b[0mepoch\u001b[0m\u001b[1;33m)\u001b[0m\u001b[1;33m\u001b[0m\u001b[1;33m\u001b[0m\u001b[0m\n\u001b[0m\u001b[0;32m     12\u001b[0m     \u001b[0mtest_acc\u001b[0m \u001b[1;33m=\u001b[0m \u001b[0mtest\u001b[0m\u001b[1;33m(\u001b[0m\u001b[0mprune_model\u001b[0m\u001b[1;33m,\u001b[0m \u001b[0mepoch\u001b[0m\u001b[1;33m)\u001b[0m\u001b[1;33m\u001b[0m\u001b[1;33m\u001b[0m\u001b[0m\n\u001b[0;32m     13\u001b[0m \u001b[1;33m\u001b[0m\u001b[0m\n",
      "\u001b[1;32m~\\AppData\\Local\\Temp\\ipykernel_29228\\3674024442.py\u001b[0m in \u001b[0;36mtrain\u001b[1;34m(model, epoch)\u001b[0m\n\u001b[0;32m     21\u001b[0m         \u001b[1;31m#backward\u001b[0m\u001b[1;33m\u001b[0m\u001b[1;33m\u001b[0m\u001b[1;33m\u001b[0m\u001b[0m\n\u001b[0;32m     22\u001b[0m         \u001b[0moptimizer\u001b[0m\u001b[1;33m.\u001b[0m\u001b[0mzero_grad\u001b[0m\u001b[1;33m(\u001b[0m\u001b[1;33m)\u001b[0m\u001b[1;33m\u001b[0m\u001b[1;33m\u001b[0m\u001b[0m\n\u001b[1;32m---> 23\u001b[1;33m         \u001b[0mloss\u001b[0m\u001b[1;33m.\u001b[0m\u001b[0mbackward\u001b[0m\u001b[1;33m(\u001b[0m\u001b[1;33m)\u001b[0m\u001b[1;33m\u001b[0m\u001b[1;33m\u001b[0m\u001b[0m\n\u001b[0m\u001b[0;32m     24\u001b[0m         \u001b[0moptimizer\u001b[0m\u001b[1;33m.\u001b[0m\u001b[0mstep\u001b[0m\u001b[1;33m(\u001b[0m\u001b[1;33m)\u001b[0m\u001b[1;33m\u001b[0m\u001b[1;33m\u001b[0m\u001b[0m\n\u001b[0;32m     25\u001b[0m \u001b[1;33m\u001b[0m\u001b[0m\n",
      "\u001b[1;32m~\\anaconda3\\envs\\pytorch111\\lib\\site-packages\\torch\\_tensor.py\u001b[0m in \u001b[0;36mbackward\u001b[1;34m(self, gradient, retain_graph, create_graph, inputs)\u001b[0m\n\u001b[0;32m    361\u001b[0m                 \u001b[0mcreate_graph\u001b[0m\u001b[1;33m=\u001b[0m\u001b[0mcreate_graph\u001b[0m\u001b[1;33m,\u001b[0m\u001b[1;33m\u001b[0m\u001b[1;33m\u001b[0m\u001b[0m\n\u001b[0;32m    362\u001b[0m                 inputs=inputs)\n\u001b[1;32m--> 363\u001b[1;33m         \u001b[0mtorch\u001b[0m\u001b[1;33m.\u001b[0m\u001b[0mautograd\u001b[0m\u001b[1;33m.\u001b[0m\u001b[0mbackward\u001b[0m\u001b[1;33m(\u001b[0m\u001b[0mself\u001b[0m\u001b[1;33m,\u001b[0m \u001b[0mgradient\u001b[0m\u001b[1;33m,\u001b[0m \u001b[0mretain_graph\u001b[0m\u001b[1;33m,\u001b[0m \u001b[0mcreate_graph\u001b[0m\u001b[1;33m,\u001b[0m \u001b[0minputs\u001b[0m\u001b[1;33m=\u001b[0m\u001b[0minputs\u001b[0m\u001b[1;33m)\u001b[0m\u001b[1;33m\u001b[0m\u001b[1;33m\u001b[0m\u001b[0m\n\u001b[0m\u001b[0;32m    364\u001b[0m \u001b[1;33m\u001b[0m\u001b[0m\n\u001b[0;32m    365\u001b[0m     \u001b[1;32mdef\u001b[0m \u001b[0mregister_hook\u001b[0m\u001b[1;33m(\u001b[0m\u001b[0mself\u001b[0m\u001b[1;33m,\u001b[0m \u001b[0mhook\u001b[0m\u001b[1;33m)\u001b[0m\u001b[1;33m:\u001b[0m\u001b[1;33m\u001b[0m\u001b[1;33m\u001b[0m\u001b[0m\n",
      "\u001b[1;32m~\\anaconda3\\envs\\pytorch111\\lib\\site-packages\\torch\\autograd\\__init__.py\u001b[0m in \u001b[0;36mbackward\u001b[1;34m(tensors, grad_tensors, retain_graph, create_graph, grad_variables, inputs)\u001b[0m\n\u001b[0;32m    173\u001b[0m     Variable._execution_engine.run_backward(  # Calls into the C++ engine to run the backward pass\n\u001b[0;32m    174\u001b[0m         \u001b[0mtensors\u001b[0m\u001b[1;33m,\u001b[0m \u001b[0mgrad_tensors_\u001b[0m\u001b[1;33m,\u001b[0m \u001b[0mretain_graph\u001b[0m\u001b[1;33m,\u001b[0m \u001b[0mcreate_graph\u001b[0m\u001b[1;33m,\u001b[0m \u001b[0minputs\u001b[0m\u001b[1;33m,\u001b[0m\u001b[1;33m\u001b[0m\u001b[1;33m\u001b[0m\u001b[0m\n\u001b[1;32m--> 175\u001b[1;33m         allow_unreachable=True, accumulate_grad=True)  # Calls into the C++ engine to run the backward pass\n\u001b[0m\u001b[0;32m    176\u001b[0m \u001b[1;33m\u001b[0m\u001b[0m\n\u001b[0;32m    177\u001b[0m def grad(\n",
      "\u001b[1;31mKeyboardInterrupt\u001b[0m: "
     ]
    }
   ],
   "source": [
    "EPOCH = 100\n",
    "LR = 0.001\n",
    "\n",
    "# declare optimizer and loss function\n",
    "optimizer = optim.Adam(model.parameters(), lr=LR  )\n",
    "print('start finetuning')\n",
    "\n",
    "best_accuracy = 0\n",
    "prune_model=model\n",
    "for epoch in range(1, EPOCH + 1):\n",
    "    train_acc = train(prune_model, epoch)\n",
    "    test_acc = test(prune_model, epoch)\n",
    "    \n",
    "    if test_acc > best_accuracy:\n",
    "        print('Saving..')\n",
    "        torch.save({'cfg': prune_model.cfg, 'state_dict': prune_model.state_dict()}, './Checkpoint/finetuned_model.pth.tar')\n",
    "        best_accuracy = test_acc\n",
    "        \n",
    "print('Best accuracy: %.2f' % best_accuracy)"
   ]
  },
  {
   "cell_type": "code",
   "execution_count": null,
   "metadata": {},
   "outputs": [],
   "source": [
    "checkpoint = torch.load('./Checkpoint/finetuned_model.pth.tar')\n",
    "finetuned_model = M5(cfg=checkpoint['cfg']).to(device)\n",
    "finetuned_model.load_state_dict(checkpoint['state_dict'])"
   ]
  },
  {
   "cell_type": "code",
   "execution_count": null,
   "metadata": {},
   "outputs": [],
   "source": [
    "total_param = sum([param.nelement() for param in finetuned_model.parameters()])\n",
    "print(\"Number of parameter after pruning: %.2fk\" % (total_param/1e3))\n",
    "\n",
    "print('Accuracy after fine-tuning')\n",
    "test_acc = test(finetuned_model, 0)"
   ]
  }
 ],
 "metadata": {
  "kernelspec": {
   "display_name": "Python 3 (ipykernel)",
   "language": "python",
   "name": "python3"
  },
  "language_info": {
   "codemirror_mode": {
    "name": "ipython",
    "version": 3
   },
   "file_extension": ".py",
   "mimetype": "text/x-python",
   "name": "python",
   "nbconvert_exporter": "python",
   "pygments_lexer": "ipython3",
   "version": "3.7.13"
  },
  "vscode": {
   "interpreter": {
    "hash": "1ee259d0061a5067b188c5cf67d75cc3dd24bdd7ea8481f374fef6d49d2a088b"
   }
  }
 },
 "nbformat": 4,
 "nbformat_minor": 2
}
