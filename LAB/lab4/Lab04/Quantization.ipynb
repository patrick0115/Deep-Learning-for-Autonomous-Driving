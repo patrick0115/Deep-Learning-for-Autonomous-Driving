{
 "cells": [
  {
   "cell_type": "code",
   "execution_count": 1,
   "metadata": {},
   "outputs": [],
   "source": [
    "import torch\n",
    "import torch.nn as nn\n",
    "import torch.nn.functional as F\n",
    "import torch.optim as optim\n",
    "from torch.utils.data import DataLoader\n",
    "from speech_command_dataset import SpeechCommandDataset\n",
    "import numpy as np\n",
    "import matplotlib.pyplot as plt\n",
    "from model import M5\n",
    "import time"
   ]
  },
  {
   "cell_type": "code",
   "execution_count": 2,
   "metadata": {},
   "outputs": [
    {
     "name": "stdout",
     "output_type": "stream",
     "text": [
      "cpu\n"
     ]
    }
   ],
   "source": [
    "torch.manual_seed(0)\n",
    "torch.backends.cudnn.deterministic = True \n",
    "torch.backends.cudnn.benchmark = False\n",
    "\n",
    "device = torch.device(\"cpu\")\n",
    "print(device)"
   ]
  },
  {
   "cell_type": "code",
   "execution_count": 3,
   "metadata": {},
   "outputs": [],
   "source": [
    "# declare dataloader\n",
    "calib_params = {\"batch_size\": 512,\n",
    "                \"shuffle\": True,\n",
    "                \"drop_last\": True,\n",
    "                \"num_workers\": 1}\n",
    "\n",
    "testing_params = {\"batch_size\": 512,\n",
    "                       \"shuffle\": False,\n",
    "                       \"drop_last\": True,\n",
    "                       \"num_workers\": 1}\n",
    "\n",
    "calib_set = SpeechCommandDataset()\n",
    "calib_loader = DataLoader(calib_set, **calib_params)\n",
    "\n",
    "test_set = SpeechCommandDataset(is_training=False)\n",
    "test_loader = DataLoader(test_set, **testing_params)"
   ]
  },
  {
   "cell_type": "code",
   "execution_count": 4,
   "metadata": {},
   "outputs": [],
   "source": [
    "def test(model, epoch):\n",
    "    model.eval()\n",
    "    correct = 0\n",
    "    for data, target in test_loader:\n",
    "\n",
    "        data = data.to(device)\n",
    "        target = target.to(device)\n",
    "\n",
    "        #forward\n",
    "        output = model(data)\n",
    "\n",
    "        pred = output.argmax(dim=-1)\n",
    "        correct += pred.squeeze().eq(target).sum().item()\n",
    "        \n",
    "    # print testing stats\n",
    "    test_acc = 100.0 * float(correct) / len(test_set)\n",
    "    print('Epoch: %3d' % epoch, '|test accuracy: %.2f' % test_acc)\n",
    "    return test_acc"
   ]
  },
  {
   "cell_type": "code",
   "execution_count": 18,
   "metadata": {},
   "outputs": [
    {
     "name": "stdout",
     "output_type": "stream",
     "text": [
      "=> loading checkpoint './log/best_model_clean.pth.tar'\n"
     ]
    },
    {
     "data": {
      "text/plain": [
       "<All keys matched successfully>"
      ]
     },
     "execution_count": 18,
     "metadata": {},
     "output_type": "execute_result"
    }
   ],
   "source": [
    "# load model\n",
    "model_path = './log/best_model_clean.pth.tar'\n",
    "\n",
    "print(\"=> loading checkpoint '{}'\".format(model_path))\n",
    "checkpoint = torch.load(model_path, map_location = device)\n",
    "\n",
    "model = M5(cfg = checkpoint['cfg']).to(device)\n",
    "model.load_state_dict(checkpoint['state_dict'])"
   ]
  },
  {
   "cell_type": "code",
   "execution_count": 6,
   "metadata": {},
   "outputs": [
    {
     "name": "stdout",
     "output_type": "stream",
     "text": [
      "M5(\n",
      "  (features): Sequential(\n",
      "    (0): Conv1d(1, 128, kernel_size=(40,), stride=(2,), padding=(19,))\n",
      "    (1): BatchNorm1d(128, eps=1e-05, momentum=0.1, affine=True, track_running_stats=True)\n",
      "    (2): ReLU()\n",
      "    (3): MaxPool1d(kernel_size=4, stride=4, padding=0, dilation=1, ceil_mode=False)\n",
      "    (4): Conv1d(128, 128, kernel_size=(3,), stride=(1,), padding=(1,))\n",
      "    (5): BatchNorm1d(128, eps=1e-05, momentum=0.1, affine=True, track_running_stats=True)\n",
      "    (6): ReLU()\n",
      "    (7): MaxPool1d(kernel_size=4, stride=4, padding=0, dilation=1, ceil_mode=False)\n",
      "    (8): Conv1d(128, 256, kernel_size=(3,), stride=(1,), padding=(1,))\n",
      "    (9): BatchNorm1d(256, eps=1e-05, momentum=0.1, affine=True, track_running_stats=True)\n",
      "    (10): ReLU()\n",
      "    (11): MaxPool1d(kernel_size=4, stride=4, padding=0, dilation=1, ceil_mode=False)\n",
      "    (12): Conv1d(256, 512, kernel_size=(3,), stride=(1,), padding=(1,))\n",
      "    (13): BatchNorm1d(512, eps=1e-05, momentum=0.1, affine=True, track_running_stats=True)\n",
      "    (14): ReLU()\n",
      "    (15): MaxPool1d(kernel_size=4, stride=4, padding=0, dilation=1, ceil_mode=False)\n",
      "  )\n",
      "  (avgpool): AdaptiveAvgPool1d(output_size=1)\n",
      "  (flatten): Flatten(start_dim=1, end_dim=-1)\n",
      "  (fc): Linear(in_features=512, out_features=10, bias=True)\n",
      ")\n"
     ]
    }
   ],
   "source": [
    "print(model)"
   ]
  },
  {
   "cell_type": "code",
   "execution_count": 19,
   "metadata": {},
   "outputs": [
    {
     "name": "stdout",
     "output_type": "stream",
     "text": [
      "\n",
      "bytes per element: 4\n"
     ]
    }
   ],
   "source": [
    "print('\\nbytes per element:', model.features[0].weight.element_size())\n"
   ]
  },
  {
   "cell_type": "markdown",
   "metadata": {},
   "source": [
    "### Static quantization of a model consists of the following steps:\n",
    "\n",
    "1. Fuse modules\n",
    "2. Insert Quant/DeQuant Stubs\n",
    "3. Prepare the fused module (insert observers before and after layers)\n",
    "4. Calibrate the prepared module (pass it representative data)\n",
    "5. Convert the calibrated module (replace with quantized version)"
   ]
  },
  {
   "cell_type": "markdown",
   "metadata": {},
   "source": [
    "### 1.Fuse modules"
   ]
  },
  {
   "cell_type": "code",
   "execution_count": 20,
   "metadata": {},
   "outputs": [
    {
     "name": "stdout",
     "output_type": "stream",
     "text": [
      "M5(\n",
      "  (features): Sequential(\n",
      "    (0): ConvReLU1d(\n",
      "      (0): Conv1d(1, 128, kernel_size=(40,), stride=(2,), padding=(19,))\n",
      "      (1): ReLU()\n",
      "    )\n",
      "    (1): Identity()\n",
      "    (2): Identity()\n",
      "    (3): MaxPool1d(kernel_size=4, stride=4, padding=0, dilation=1, ceil_mode=False)\n",
      "    (4): ConvReLU1d(\n",
      "      (0): Conv1d(128, 128, kernel_size=(3,), stride=(1,), padding=(1,))\n",
      "      (1): ReLU()\n",
      "    )\n",
      "    (5): Identity()\n",
      "    (6): Identity()\n",
      "    (7): MaxPool1d(kernel_size=4, stride=4, padding=0, dilation=1, ceil_mode=False)\n",
      "    (8): ConvReLU1d(\n",
      "      (0): Conv1d(128, 256, kernel_size=(3,), stride=(1,), padding=(1,))\n",
      "      (1): ReLU()\n",
      "    )\n",
      "    (9): Identity()\n",
      "    (10): Identity()\n",
      "    (11): MaxPool1d(kernel_size=4, stride=4, padding=0, dilation=1, ceil_mode=False)\n",
      "    (12): ConvReLU1d(\n",
      "      (0): Conv1d(256, 512, kernel_size=(3,), stride=(1,), padding=(1,))\n",
      "      (1): ReLU()\n",
      "    )\n",
      "    (13): Identity()\n",
      "    (14): Identity()\n",
      "    (15): MaxPool1d(kernel_size=4, stride=4, padding=0, dilation=1, ceil_mode=False)\n",
      "  )\n",
      "  (avgpool): AdaptiveAvgPool1d(output_size=1)\n",
      "  (flatten): Flatten(start_dim=1, end_dim=-1)\n",
      "  (fc): Linear(in_features=512, out_features=10, bias=True)\n",
      ")\n"
     ]
    }
   ],
   "source": [
    "model.eval()\n",
    "\n",
    "_ = torch.quantization.fuse_modules(model.features, ['0','1','2'], inplace=True)\n",
    "_ = torch.quantization.fuse_modules(model.features, ['4','5','6'], inplace=True)\n",
    "_ = torch.quantization.fuse_modules(model.features, ['8','9','10'], inplace=True)\n",
    "_ = torch.quantization.fuse_modules(model.features, ['12','13','14'], inplace=True)\n",
    "\n",
    "print(model)\n"
   ]
  },
  {
   "cell_type": "markdown",
   "metadata": {},
   "source": [
    "### 2. Insert Quant/DeQuant Stubs"
   ]
  },
  {
   "cell_type": "code",
   "execution_count": 37,
   "metadata": {},
   "outputs": [
    {
     "name": "stdout",
     "output_type": "stream",
     "text": [
      "Sequential(\n",
      "  (0): QuantStub()\n",
      "  (1): ConvReLU1d(\n",
      "    (0): Conv1d(1, 128, kernel_size=(40,), stride=(2,), padding=(19,))\n",
      "    (1): ReLU()\n",
      "  )\n",
      "  (2): Identity()\n",
      "  (3): Identity()\n",
      "  (4): MaxPool1d(kernel_size=4, stride=4, padding=0, dilation=1, ceil_mode=False)\n",
      "  (5): ConvReLU1d(\n",
      "    (0): Conv1d(128, 128, kernel_size=(3,), stride=(1,), padding=(1,))\n",
      "    (1): ReLU()\n",
      "  )\n",
      "  (6): Identity()\n",
      "  (7): Identity()\n",
      "  (8): MaxPool1d(kernel_size=4, stride=4, padding=0, dilation=1, ceil_mode=False)\n",
      "  (9): ConvReLU1d(\n",
      "    (0): Conv1d(128, 256, kernel_size=(3,), stride=(1,), padding=(1,))\n",
      "    (1): ReLU()\n",
      "  )\n",
      "  (10): Identity()\n",
      "  (11): Identity()\n",
      "  (12): MaxPool1d(kernel_size=4, stride=4, padding=0, dilation=1, ceil_mode=False)\n",
      "  (13): ConvReLU1d(\n",
      "    (0): Conv1d(256, 512, kernel_size=(3,), stride=(1,), padding=(1,))\n",
      "    (1): ReLU()\n",
      "  )\n",
      "  (14): Identity()\n",
      "  (15): Identity()\n",
      "  (16): MaxPool1d(kernel_size=4, stride=4, padding=0, dilation=1, ceil_mode=False)\n",
      "  (17): AdaptiveAvgPool1d(output_size=1)\n",
      "  (18): Flatten(start_dim=1, end_dim=-1)\n",
      "  (19): Linear(in_features=512, out_features=10, bias=True)\n",
      "  (20): DeQuantStub()\n",
      ")\n"
     ]
    }
   ],
   "source": [
    "\"\"\"Insert stubs\"\"\"\n",
    "model = nn.Sequential(torch.quantization.QuantStub(), \n",
    "                  *model.features,\n",
    "                   model.avgpool,\n",
    "                   model.flatten,\n",
    "                   model.fc,\n",
    "                   torch.quantization.DeQuantStub())\n",
    "\n",
    "print(model)"
   ]
  },
  {
   "cell_type": "markdown",
   "metadata": {},
   "source": [
    "### 3. Prepare the fused module (insert observers before and after layers)"
   ]
  },
  {
   "cell_type": "code",
   "execution_count": 38,
   "metadata": {},
   "outputs": [
    {
     "name": "stdout",
     "output_type": "stream",
     "text": [
      "Sequential(\n",
      "  (0): QuantStub(\n",
      "    (activation_post_process): HistogramObserver()\n",
      "  )\n",
      "  (1): ConvReLU1d(\n",
      "    (0): Conv1d(1, 128, kernel_size=(40,), stride=(2,), padding=(19,))\n",
      "    (1): ReLU()\n",
      "    (activation_post_process): HistogramObserver()\n",
      "  )\n",
      "  (2): Identity()\n",
      "  (3): Identity()\n",
      "  (4): MaxPool1d(kernel_size=4, stride=4, padding=0, dilation=1, ceil_mode=False)\n",
      "  (5): ConvReLU1d(\n",
      "    (0): Conv1d(128, 128, kernel_size=(3,), stride=(1,), padding=(1,))\n",
      "    (1): ReLU()\n",
      "    (activation_post_process): HistogramObserver()\n",
      "  )\n",
      "  (6): Identity()\n",
      "  (7): Identity()\n",
      "  (8): MaxPool1d(kernel_size=4, stride=4, padding=0, dilation=1, ceil_mode=False)\n",
      "  (9): ConvReLU1d(\n",
      "    (0): Conv1d(128, 256, kernel_size=(3,), stride=(1,), padding=(1,))\n",
      "    (1): ReLU()\n",
      "    (activation_post_process): HistogramObserver()\n",
      "  )\n",
      "  (10): Identity()\n",
      "  (11): Identity()\n",
      "  (12): MaxPool1d(kernel_size=4, stride=4, padding=0, dilation=1, ceil_mode=False)\n",
      "  (13): ConvReLU1d(\n",
      "    (0): Conv1d(256, 512, kernel_size=(3,), stride=(1,), padding=(1,))\n",
      "    (1): ReLU()\n",
      "    (activation_post_process): HistogramObserver()\n",
      "  )\n",
      "  (14): Identity()\n",
      "  (15): Identity()\n",
      "  (16): MaxPool1d(kernel_size=4, stride=4, padding=0, dilation=1, ceil_mode=False)\n",
      "  (17): AdaptiveAvgPool1d(output_size=1)\n",
      "  (18): Flatten(start_dim=1, end_dim=-1)\n",
      "  (19): Linear(\n",
      "    in_features=512, out_features=10, bias=True\n",
      "    (activation_post_process): HistogramObserver()\n",
      "  )\n",
      "  (20): DeQuantStub()\n",
      ")\n"
     ]
    },
    {
     "name": "stderr",
     "output_type": "stream",
     "text": [
      "c:\\Users\\agbug\\AppData\\Local\\Programs\\Python\\Python37\\lib\\site-packages\\torch\\ao\\quantization\\observer.py:174: UserWarning: Please use quant_min and quant_max to specify the range for observers.                     reduce_range will be deprecated in a future release of PyTorch.\n",
      "  reduce_range will be deprecated in a future release of PyTorch.\"\n"
     ]
    }
   ],
   "source": [
    "backend = \"fbgemm\"  # running on a x86 CPU. Use \"qnnpack\" if running on ARM.\n",
    "\n",
    "model.qconfig = torch.quantization.get_default_qconfig(backend)\n",
    "torch.quantization.prepare(model, inplace=True)\n",
    "\n",
    "print(model)\n"
   ]
  },
  {
   "cell_type": "markdown",
   "metadata": {},
   "source": [
    "### 4. Calibrate the prepared module (pass it representative data)"
   ]
  },
  {
   "cell_type": "code",
   "execution_count": 39,
   "metadata": {},
   "outputs": [],
   "source": [
    "iterator = iter(calib_loader)\n",
    "\n",
    "NUM_CALIB_BATCH = 10\n",
    "\n",
    "with torch.inference_mode():\n",
    "    for _ in range(NUM_CALIB_BATCH):\n",
    "        inputs, labels = next(iterator)\n",
    "        inputs = inputs.cpu()\n",
    "        labels = labels.cpu()\n",
    "        outputs = model(inputs)"
   ]
  },
  {
   "cell_type": "markdown",
   "metadata": {},
   "source": [
    "### 5. Convert the calibrated module (replace with quantized version)"
   ]
  },
  {
   "cell_type": "code",
   "execution_count": 40,
   "metadata": {},
   "outputs": [
    {
     "name": "stderr",
     "output_type": "stream",
     "text": [
      "c:\\Users\\agbug\\AppData\\Local\\Programs\\Python\\Python37\\lib\\site-packages\\torch\\ao\\quantization\\observer.py:886: UserWarning: __floordiv__ is deprecated, and its behavior will change in a future version of pytorch. It currently rounds toward 0 (like the 'trunc' function NOT 'floor'). This results in incorrect rounding for negative values. To keep the current behavior, use torch.div(a, b, rounding_mode='trunc'), or for actual floor division, use torch.div(a, b, rounding_mode='floor').\n",
      "  src_bin_begin // dst_bin_width, 0, self.dst_nbins - 1\n",
      "c:\\Users\\agbug\\AppData\\Local\\Programs\\Python\\Python37\\lib\\site-packages\\torch\\ao\\quantization\\observer.py:891: UserWarning: __floordiv__ is deprecated, and its behavior will change in a future version of pytorch. It currently rounds toward 0 (like the 'trunc' function NOT 'floor'). This results in incorrect rounding for negative values. To keep the current behavior, use torch.div(a, b, rounding_mode='trunc'), or for actual floor division, use torch.div(a, b, rounding_mode='floor').\n",
      "  src_bin_end // dst_bin_width, 0, self.dst_nbins - 1\n"
     ]
    },
    {
     "name": "stdout",
     "output_type": "stream",
     "text": [
      "Sequential(\n",
      "  (0): Quantize(scale=tensor([0.0157]), zero_point=tensor([64]), dtype=torch.quint8)\n",
      "  (1): QuantizedConvReLU1d(1, 128, kernel_size=(40,), stride=(2,), scale=0.08150431513786316, zero_point=0, padding=(19,))\n",
      "  (2): Identity()\n",
      "  (3): Identity()\n",
      "  (4): MaxPool1d(kernel_size=4, stride=4, padding=0, dilation=1, ceil_mode=False)\n",
      "  (5): QuantizedConvReLU1d(128, 128, kernel_size=(3,), stride=(1,), scale=0.08697756379842758, zero_point=0, padding=(1,))\n",
      "  (6): Identity()\n",
      "  (7): Identity()\n",
      "  (8): MaxPool1d(kernel_size=4, stride=4, padding=0, dilation=1, ceil_mode=False)\n",
      "  (9): QuantizedConvReLU1d(128, 256, kernel_size=(3,), stride=(1,), scale=0.053864896297454834, zero_point=0, padding=(1,))\n",
      "  (10): Identity()\n",
      "  (11): Identity()\n",
      "  (12): MaxPool1d(kernel_size=4, stride=4, padding=0, dilation=1, ceil_mode=False)\n",
      "  (13): QuantizedConvReLU1d(256, 512, kernel_size=(3,), stride=(1,), scale=0.12924809753894806, zero_point=0, padding=(1,))\n",
      "  (14): Identity()\n",
      "  (15): Identity()\n",
      "  (16): MaxPool1d(kernel_size=4, stride=4, padding=0, dilation=1, ceil_mode=False)\n",
      "  (17): AdaptiveAvgPool1d(output_size=1)\n",
      "  (18): Flatten(start_dim=1, end_dim=-1)\n",
      "  (19): QuantizedLinear(in_features=512, out_features=10, scale=0.5879445672035217, zero_point=76, qscheme=torch.per_channel_affine)\n",
      "  (20): DeQuantize()\n",
      ")\n"
     ]
    }
   ],
   "source": [
    "\"\"\"Convert\"\"\"\n",
    "quantized_model = torch.quantization.convert(model, inplace=False)\n",
    "\n",
    "print(quantized_model)"
   ]
  },
  {
   "cell_type": "code",
   "execution_count": 41,
   "metadata": {},
   "outputs": [
    {
     "name": "stdout",
     "output_type": "stream",
     "text": [
      "\n",
      "bytes per element: 1\n"
     ]
    }
   ],
   "source": [
    "# print(quantized_model[0].weight().element_size())\n",
    "print('\\nbytes per element:', quantized_model[1].weight().element_size())"
   ]
  },
  {
   "cell_type": "code",
   "execution_count": 42,
   "metadata": {},
   "outputs": [
    {
     "name": "stdout",
     "output_type": "stream",
     "text": [
      "Epoch:   0 |test accuracy: 76.01\n"
     ]
    }
   ],
   "source": [
    "test_acc = test(quantized_model, 0)"
   ]
  },
  {
   "cell_type": "markdown",
   "metadata": {},
   "source": [
    "## run benchmark"
   ]
  },
  {
   "cell_type": "code",
   "execution_count": 44,
   "metadata": {},
   "outputs": [
    {
     "ename": "FileNotFoundError",
     "evalue": "[Errno 2] No such file or directory: './Checkpoint/best_model.pth.tar'",
     "output_type": "error",
     "traceback": [
      "\u001b[1;31m---------------------------------------------------------------------------\u001b[0m",
      "\u001b[1;31mFileNotFoundError\u001b[0m                         Traceback (most recent call last)",
      "\u001b[1;32m~\\AppData\\Local\\Temp\\ipykernel_28108\\499444947.py\u001b[0m in \u001b[0;36m<module>\u001b[1;34m\u001b[0m\n\u001b[0;32m      4\u001b[0m \u001b[0mcoarse_path\u001b[0m \u001b[1;33m=\u001b[0m \u001b[1;34m'./Checkpoint/coarse_model.pth.tar'\u001b[0m\u001b[1;33m\u001b[0m\u001b[1;33m\u001b[0m\u001b[0m\n\u001b[0;32m      5\u001b[0m \u001b[1;33m\u001b[0m\u001b[0m\n\u001b[1;32m----> 6\u001b[1;33m \u001b[0mbest_checkpoint\u001b[0m \u001b[1;33m=\u001b[0m \u001b[0mtorch\u001b[0m\u001b[1;33m.\u001b[0m\u001b[0mload\u001b[0m\u001b[1;33m(\u001b[0m\u001b[0mbest_path\u001b[0m\u001b[1;33m,\u001b[0m \u001b[0mmap_location\u001b[0m \u001b[1;33m=\u001b[0m \u001b[0mdevice\u001b[0m\u001b[1;33m)\u001b[0m\u001b[1;33m\u001b[0m\u001b[1;33m\u001b[0m\u001b[0m\n\u001b[0m\u001b[0;32m      7\u001b[0m \u001b[0mbest_model\u001b[0m \u001b[1;33m=\u001b[0m \u001b[0mM5\u001b[0m\u001b[1;33m(\u001b[0m\u001b[0mcfg\u001b[0m \u001b[1;33m=\u001b[0m \u001b[0mbest_checkpoint\u001b[0m\u001b[1;33m[\u001b[0m\u001b[1;34m'cfg'\u001b[0m\u001b[1;33m]\u001b[0m\u001b[1;33m)\u001b[0m\u001b[1;33m.\u001b[0m\u001b[0mto\u001b[0m\u001b[1;33m(\u001b[0m\u001b[0mdevice\u001b[0m\u001b[1;33m)\u001b[0m\u001b[1;33m\u001b[0m\u001b[1;33m\u001b[0m\u001b[0m\n\u001b[0;32m      8\u001b[0m \u001b[0mbest_model\u001b[0m\u001b[1;33m.\u001b[0m\u001b[0mload_state_dict\u001b[0m\u001b[1;33m(\u001b[0m\u001b[0mbest_checkpoint\u001b[0m\u001b[1;33m[\u001b[0m\u001b[1;34m'state_dict'\u001b[0m\u001b[1;33m]\u001b[0m\u001b[1;33m)\u001b[0m\u001b[1;33m\u001b[0m\u001b[1;33m\u001b[0m\u001b[0m\n",
      "\u001b[1;32mc:\\Users\\agbug\\AppData\\Local\\Programs\\Python\\Python37\\lib\\site-packages\\torch\\serialization.py\u001b[0m in \u001b[0;36mload\u001b[1;34m(f, map_location, pickle_module, **pickle_load_args)\u001b[0m\n\u001b[0;32m    592\u001b[0m         \u001b[0mpickle_load_args\u001b[0m\u001b[1;33m[\u001b[0m\u001b[1;34m'encoding'\u001b[0m\u001b[1;33m]\u001b[0m \u001b[1;33m=\u001b[0m \u001b[1;34m'utf-8'\u001b[0m\u001b[1;33m\u001b[0m\u001b[1;33m\u001b[0m\u001b[0m\n\u001b[0;32m    593\u001b[0m \u001b[1;33m\u001b[0m\u001b[0m\n\u001b[1;32m--> 594\u001b[1;33m     \u001b[1;32mwith\u001b[0m \u001b[0m_open_file_like\u001b[0m\u001b[1;33m(\u001b[0m\u001b[0mf\u001b[0m\u001b[1;33m,\u001b[0m \u001b[1;34m'rb'\u001b[0m\u001b[1;33m)\u001b[0m \u001b[1;32mas\u001b[0m \u001b[0mopened_file\u001b[0m\u001b[1;33m:\u001b[0m\u001b[1;33m\u001b[0m\u001b[1;33m\u001b[0m\u001b[0m\n\u001b[0m\u001b[0;32m    595\u001b[0m         \u001b[1;32mif\u001b[0m \u001b[0m_is_zipfile\u001b[0m\u001b[1;33m(\u001b[0m\u001b[0mopened_file\u001b[0m\u001b[1;33m)\u001b[0m\u001b[1;33m:\u001b[0m\u001b[1;33m\u001b[0m\u001b[1;33m\u001b[0m\u001b[0m\n\u001b[0;32m    596\u001b[0m             \u001b[1;31m# The zipfile reader is going to advance the current file position.\u001b[0m\u001b[1;33m\u001b[0m\u001b[1;33m\u001b[0m\u001b[1;33m\u001b[0m\u001b[0m\n",
      "\u001b[1;32mc:\\Users\\agbug\\AppData\\Local\\Programs\\Python\\Python37\\lib\\site-packages\\torch\\serialization.py\u001b[0m in \u001b[0;36m_open_file_like\u001b[1;34m(name_or_buffer, mode)\u001b[0m\n\u001b[0;32m    228\u001b[0m \u001b[1;32mdef\u001b[0m \u001b[0m_open_file_like\u001b[0m\u001b[1;33m(\u001b[0m\u001b[0mname_or_buffer\u001b[0m\u001b[1;33m,\u001b[0m \u001b[0mmode\u001b[0m\u001b[1;33m)\u001b[0m\u001b[1;33m:\u001b[0m\u001b[1;33m\u001b[0m\u001b[1;33m\u001b[0m\u001b[0m\n\u001b[0;32m    229\u001b[0m     \u001b[1;32mif\u001b[0m \u001b[0m_is_path\u001b[0m\u001b[1;33m(\u001b[0m\u001b[0mname_or_buffer\u001b[0m\u001b[1;33m)\u001b[0m\u001b[1;33m:\u001b[0m\u001b[1;33m\u001b[0m\u001b[1;33m\u001b[0m\u001b[0m\n\u001b[1;32m--> 230\u001b[1;33m         \u001b[1;32mreturn\u001b[0m \u001b[0m_open_file\u001b[0m\u001b[1;33m(\u001b[0m\u001b[0mname_or_buffer\u001b[0m\u001b[1;33m,\u001b[0m \u001b[0mmode\u001b[0m\u001b[1;33m)\u001b[0m\u001b[1;33m\u001b[0m\u001b[1;33m\u001b[0m\u001b[0m\n\u001b[0m\u001b[0;32m    231\u001b[0m     \u001b[1;32melse\u001b[0m\u001b[1;33m:\u001b[0m\u001b[1;33m\u001b[0m\u001b[1;33m\u001b[0m\u001b[0m\n\u001b[0;32m    232\u001b[0m         \u001b[1;32mif\u001b[0m \u001b[1;34m'w'\u001b[0m \u001b[1;32min\u001b[0m \u001b[0mmode\u001b[0m\u001b[1;33m:\u001b[0m\u001b[1;33m\u001b[0m\u001b[1;33m\u001b[0m\u001b[0m\n",
      "\u001b[1;32mc:\\Users\\agbug\\AppData\\Local\\Programs\\Python\\Python37\\lib\\site-packages\\torch\\serialization.py\u001b[0m in \u001b[0;36m__init__\u001b[1;34m(self, name, mode)\u001b[0m\n\u001b[0;32m    209\u001b[0m \u001b[1;32mclass\u001b[0m \u001b[0m_open_file\u001b[0m\u001b[1;33m(\u001b[0m\u001b[0m_opener\u001b[0m\u001b[1;33m)\u001b[0m\u001b[1;33m:\u001b[0m\u001b[1;33m\u001b[0m\u001b[1;33m\u001b[0m\u001b[0m\n\u001b[0;32m    210\u001b[0m     \u001b[1;32mdef\u001b[0m \u001b[0m__init__\u001b[0m\u001b[1;33m(\u001b[0m\u001b[0mself\u001b[0m\u001b[1;33m,\u001b[0m \u001b[0mname\u001b[0m\u001b[1;33m,\u001b[0m \u001b[0mmode\u001b[0m\u001b[1;33m)\u001b[0m\u001b[1;33m:\u001b[0m\u001b[1;33m\u001b[0m\u001b[1;33m\u001b[0m\u001b[0m\n\u001b[1;32m--> 211\u001b[1;33m         \u001b[0msuper\u001b[0m\u001b[1;33m(\u001b[0m\u001b[0m_open_file\u001b[0m\u001b[1;33m,\u001b[0m \u001b[0mself\u001b[0m\u001b[1;33m)\u001b[0m\u001b[1;33m.\u001b[0m\u001b[0m__init__\u001b[0m\u001b[1;33m(\u001b[0m\u001b[0mopen\u001b[0m\u001b[1;33m(\u001b[0m\u001b[0mname\u001b[0m\u001b[1;33m,\u001b[0m \u001b[0mmode\u001b[0m\u001b[1;33m)\u001b[0m\u001b[1;33m)\u001b[0m\u001b[1;33m\u001b[0m\u001b[1;33m\u001b[0m\u001b[0m\n\u001b[0m\u001b[0;32m    212\u001b[0m \u001b[1;33m\u001b[0m\u001b[0m\n\u001b[0;32m    213\u001b[0m     \u001b[1;32mdef\u001b[0m \u001b[0m__exit__\u001b[0m\u001b[1;33m(\u001b[0m\u001b[0mself\u001b[0m\u001b[1;33m,\u001b[0m \u001b[1;33m*\u001b[0m\u001b[0margs\u001b[0m\u001b[1;33m)\u001b[0m\u001b[1;33m:\u001b[0m\u001b[1;33m\u001b[0m\u001b[1;33m\u001b[0m\u001b[0m\n",
      "\u001b[1;31mFileNotFoundError\u001b[0m: [Errno 2] No such file or directory: './Checkpoint/best_model.pth.tar'"
     ]
    }
   ],
   "source": [
    "# load model\n",
    "best_path = './log/best_model_clean.pth.tar'\n",
    "fine_path = './Checkpoint/fine_grained_1_4_16_41_batchsize_256.pth.pth.tar'\n",
    "coarse_path = './Checkpoint/coarse_model.pth.tar'\n",
    "\n",
    "best_checkpoint = torch.load(best_path, map_location = device)\n",
    "best_model = M5(cfg = best_checkpoint['cfg']).to(device)\n",
    "best_model.load_state_dict(best_checkpoint['state_dict'])\n",
    "\n",
    "fine_checkpoint = torch.load(fine_path, map_location = device)\n",
    "fine_model = M5(cfg = fine_checkpoint['cfg']).to(device)\n",
    "fine_model.load_state_dict(fine_checkpoint['state_dict'])\n",
    "\n",
    "coarse_checkpoint = torch.load(coarse_path, map_location = device)\n",
    "coarse_model = M5(cfg = coarse_checkpoint['cfg']).to(device)\n",
    "coarse_model.load_state_dict(coarse_checkpoint['state_dict'])"
   ]
  },
  {
   "cell_type": "code",
   "execution_count": null,
   "metadata": {},
   "outputs": [],
   "source": [
    "def run_benchmark(model, num_batch):\n",
    "    model.eval()\n",
    "    elapsed = 0\n",
    "    \n",
    "    for i, (data, target) in enumerate(test_loader):\n",
    "\n",
    "        data = data.to(device)\n",
    "        #forward\n",
    "        start = time.perf_counter()\n",
    "        output = model(data)\n",
    "        end = time.perf_counter()\n",
    "        elapsed = elapsed + (end-start)\n",
    "        \n",
    "        if i == num_batch-1:\n",
    "            break\n",
    "    print('inference time: %.3f s' % (elapsed))"
   ]
  },
  {
   "cell_type": "code",
   "execution_count": null,
   "metadata": {},
   "outputs": [],
   "source": [
    "NUM_BATCH = 100"
   ]
  },
  {
   "cell_type": "code",
   "execution_count": null,
   "metadata": {},
   "outputs": [],
   "source": [
    "run_benchmark(quantized_model, NUM_BATCH)"
   ]
  },
  {
   "cell_type": "code",
   "execution_count": null,
   "metadata": {},
   "outputs": [],
   "source": [
    "run_benchmark(best_model, NUM_BATCH)"
   ]
  },
  {
   "cell_type": "code",
   "execution_count": null,
   "metadata": {},
   "outputs": [],
   "source": [
    "run_benchmark(fine_model, NUM_BATCH)"
   ]
  },
  {
   "cell_type": "code",
   "execution_count": null,
   "metadata": {},
   "outputs": [],
   "source": [
    "run_benchmark(coarse_model, NUM_BATCH)"
   ]
  }
 ],
 "metadata": {
  "kernelspec": {
   "display_name": "Python 3.7.9 64-bit",
   "language": "python",
   "name": "python3"
  },
  "language_info": {
   "codemirror_mode": {
    "name": "ipython",
    "version": 3
   },
   "file_extension": ".py",
   "mimetype": "text/x-python",
   "name": "python",
   "nbconvert_exporter": "python",
   "pygments_lexer": "ipython3",
   "version": "3.7.9"
  },
  "vscode": {
   "interpreter": {
    "hash": "2bb53744726dcb34925a52c17673bca24c61f3e23ffd232b95f4973e181ddeaa"
   }
  }
 },
 "nbformat": 4,
 "nbformat_minor": 2
}
