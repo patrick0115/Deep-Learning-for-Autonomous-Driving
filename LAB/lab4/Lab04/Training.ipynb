{
 "cells": [
  {
   "cell_type": "code",
   "execution_count": 2,
   "metadata": {},
   "outputs": [],
   "source": [
    "import torch\n",
    "import torch.nn as nn\n",
    "import torch.nn.functional as F\n",
    "import torch.optim as optim\n",
    "from torch.utils.data import DataLoader\n",
    "from speech_command_dataset import SpeechCommandDataset\n",
    "import numpy as np\n",
    "import matplotlib.pyplot as plt\n",
    "from model import M5\n",
    "import argparse\n",
    "from tqdm import tqdm\n",
    "import time \n",
    "from augmentation import aug"
   ]
  },
  {
   "cell_type": "code",
   "execution_count": 6,
   "metadata": {},
   "outputs": [],
   "source": [
    "batchsize   = 512\n",
    "Epoch       = 400\n",
    "lr       = 0.0002"
   ]
  },
  {
   "cell_type": "code",
   "execution_count": 7,
   "metadata": {},
   "outputs": [
    {
     "name": "stdout",
     "output_type": "stream",
     "text": [
      "cuda\n"
     ]
    }
   ],
   "source": [
    "torch.manual_seed(0)\n",
    "torch.backends.cudnn.deterministic = True \n",
    "torch.backends.cudnn.benchmark = False\n",
    "\n",
    "device = torch.device('cuda' if torch.cuda.is_available() else \"cpu\")\n",
    "print(device)"
   ]
  },
  {
   "cell_type": "markdown",
   "metadata": {},
   "source": [
    "# Dataset"
   ]
  },
  {
   "cell_type": "code",
   "execution_count": null,
   "metadata": {},
   "outputs": [],
   "source": [
    "# declare dataloader\n",
    "training_params = {\"batch_size\":batchsize ,\n",
    "                    \"shuffle\": True,\n",
    "                    \"drop_last\": False,\n",
    "                    \"num_workers\": 1}\n",
    "\n",
    "testing_params = {\"batch_size\": batchsize,\n",
    "                    \"shuffle\": False,\n",
    "                    \"drop_last\": False,\n",
    "                    \"num_workers\": 1}\n",
    "\n",
    "train_set = SpeechCommandDataset()\n",
    "train_loader = DataLoader(train_set, **training_params) \n",
    "\n",
    "train_set_aug = SpeechCommandDataset(aug=True)\n",
    "train_loader_aug = DataLoader(train_set_aug, **training_params) \n",
    "\n",
    "test_set = SpeechCommandDataset(is_training=False)\n",
    "test_loader = DataLoader(test_set, **testing_params)"
   ]
  },
  {
   "cell_type": "code",
   "execution_count": null,
   "metadata": {
    "scrolled": true
   },
   "outputs": [],
   "source": [
    "# waveform = torch.tensor(train_set[0][0])\n",
    "\n",
    "# print(\"Shape of waveform: {}\".format(waveform.shape))\n",
    "\n",
    "# plt.plot(waveform.t().numpy())"
   ]
  },
  {
   "cell_type": "code",
   "execution_count": null,
   "metadata": {},
   "outputs": [],
   "source": [
    "def train(model, epoch,data_loader,data_loader_aug,device,optimizer):\n",
    "    model.train()\n",
    "    total_loss = 0\n",
    "    correct = 0\n",
    "    criterion = nn.CrossEntropyLoss() \n",
    "    print(\"----------------------------------------------------------------------------------------------------\")\n",
    "    # for i, param in enumerate(model.parameters()):\n",
    "    #         print(param.detach().cpu().numpy())\n",
    "\n",
    "    for data, target in tqdm(data_loader):\n",
    "\n",
    "        data = data.to(device)\n",
    "        target = target.to(device)\n",
    "\n",
    "        output = model(data)\n",
    "\n",
    "        target = target.to(torch.int64) \n",
    "        loss = criterion(output, target)\n",
    "        \n",
    "        total_loss += loss.item()\n",
    "        pred = output.argmax(dim=-1)\n",
    "        correct += pred.squeeze().eq(target).sum().item()\n",
    "        \n",
    "        \n",
    "        #backward\n",
    "        optimizer.zero_grad()\n",
    "        loss.backward()\n",
    "        optimizer.step()\n",
    "\n",
    "\n",
    "\n",
    "\n",
    "\n",
    "    # print training stats\n",
    "    train_loss = float(total_loss) / (len(train_loader))\n",
    "    train_acc = 100.0 * float(correct) / (len(train_set))\n",
    "    print('Epoch: %3d' % epoch, '|train loss: %.4f' % train_loss, '|train accuracy: %.2f' % train_acc)\n",
    "    return train_acc,train_loss\n"
   ]
  },
  {
   "cell_type": "code",
   "execution_count": null,
   "metadata": {},
   "outputs": [],
   "source": [
    "def test(model, epoch):\n",
    "    model.eval()\n",
    "    correct = 0\n",
    "\n",
    "    for data, target in test_loader:\n",
    "\n",
    "        data = data.to(device)\n",
    "        target = target.to(device)\n",
    "\n",
    "        #forward\n",
    "        output = model(data)\n",
    "\n",
    "        pred = output.argmax(dim=-1)\n",
    "        correct += pred.squeeze().eq(target).sum().item()\n",
    "\n",
    "    # print testing stats\n",
    "    test_acc = 100.0 * float(correct) / len(test_set)\n",
    "    # print('Epoch: %3d' % epoch, '|test accuracy: %.2f' % test_acc)\n",
    "    return test_acc\n"
   ]
  },
  {
   "cell_type": "code",
   "execution_count": null,
   "metadata": {},
   "outputs": [],
   "source": [
    "# declare network\n",
    "model = M5().to(device)\n",
    "print(model)"
   ]
  },
  {
   "cell_type": "code",
   "execution_count": null,
   "metadata": {},
   "outputs": [],
   "source": [
    "\n",
    "\n",
    "# declare optimizer and loss function\n",
    "optimizer = optim.Adam(model.parameters(), lr=lr )\n",
    "print('start training')\n",
    "\n",
    "\n",
    "\n",
    "\n",
    "print('\\nAccuracy before pruning')\n",
    "test_acc = test(model, 0)\n",
    "print(test_acc)\n",
    "\n",
    "print('start training')\n",
    "\n",
    "localtime = time.asctime( time.localtime(time.time()) )\n",
    "timecode=localtime[9:10]+\"_\"+localtime[11:13]+\"_\"+localtime[14:16]\n",
    "best_accuracy = 0\n",
    "checkpoint = open('./Checkpoint/best_model_'+str(timecode)+'_batchsize_'+str(batchsize)+'.txt', 'w')\n",
    "for epoch in tqdm(range(1, Epoch + 1)):         \n",
    "    train_acc ,train_loss= train(model, epoch,train_loader,train_loader_aug,device,optimizer)\n",
    "    # test_acc = test(model, epoch,test_loader,device)\n",
    "    test_acc = test(model, 0)\n",
    "    print(\"test_acc\",test_acc)\n",
    "    checkpoint = open('./Checkpoint/best_model_'+str(timecode)+'_batchsize_'+str(batchsize)+'.txt', 'a')\n",
    "    checkpoint.write('epoch:'+str(epoch)+\"|train_acc:\"+str(train_acc)+\"|loss:\"+str(train_loss)+\"|test_acc:\"+str(test_acc)+\"\\n\")\n",
    "    checkpoint.close()\n",
    "    if test_acc > best_accuracy:\n",
    "        print('Saving..')\n",
    "        torch.save({'cfg': model.cfg, 'state_dict': model.state_dict()}, './Checkpoint/best_model_'+str(timecode)+'_batchsize_'+str(batchsize)+'.pth.tar')\n",
    "        best_accuracy = test_acc\n",
    "        \n",
    "print('Best accuracy: %.2f' % best_accuracy)"
   ]
  },
  {
   "cell_type": "code",
   "execution_count": null,
   "metadata": {},
   "outputs": [],
   "source": []
  }
 ],
 "metadata": {
  "kernelspec": {
   "display_name": "Python 3",
   "language": "python",
   "name": "python3"
  },
  "language_info": {
   "codemirror_mode": {
    "name": "ipython",
    "version": 3
   },
   "file_extension": ".py",
   "mimetype": "text/x-python",
   "name": "python",
   "nbconvert_exporter": "python",
   "pygments_lexer": "ipython3",
   "version": "3.7.13"
  },
  "vscode": {
   "interpreter": {
    "hash": "1ee259d0061a5067b188c5cf67d75cc3dd24bdd7ea8481f374fef6d49d2a088b"
   }
  }
 },
 "nbformat": 4,
 "nbformat_minor": 2
}
